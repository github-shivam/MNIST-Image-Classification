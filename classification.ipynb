{
 "cells": [
  {
   "cell_type": "code",
   "execution_count": 2,
   "metadata": {},
   "outputs": [],
   "source": [
    "import numpy as np"
   ]
  },
  {
   "cell_type": "code",
   "execution_count": 3,
   "metadata": {},
   "outputs": [],
   "source": [
    "def load_images(image_files):\n",
    "    with open(image_files, 'rb') as f:\n",
    "        magic = int.from_bytes(f.read(4), byteorder='big')\n",
    "        if magic != 2051:\n",
    "            raise ValueError(\"Invalid magic number, expected 2051\")\n",
    "        \n",
    "        num_images = int.from_bytes(f.read(4), byteorder='big')\n",
    "\n",
    "        rows = int.from_bytes(f.read(4), byteorder='big')\n",
    "        cols = int.from_bytes(f.read(4), byteorder='big')\n",
    "\n",
    "        images = np.frombuffer(f.read(), dtype= np.uint8)\n",
    "\n",
    "        images = images.reshape(num_images, rows, cols)\n",
    "\n",
    "        return images\n",
    "\n"
   ]
  },
  {
   "cell_type": "code",
   "execution_count": 10,
   "metadata": {},
   "outputs": [],
   "source": [
    "def load_labels(label_files):\n",
    "    with open(label_files, 'rb') as f:\n",
    "        magic = int.from_bytes(f.read(4), byteorder='big')\n",
    "        if magic != 2049:\n",
    "            raise ValueError(\"Invalid Magic Number, expected 2051\")\n",
    "        \n",
    "        num_labels = int.from_bytes(f.read(4), byteorder='big')\n",
    "\n",
    "        labels = np.frombuffer(f.read(), dtype= np.uint8)\n",
    "\n",
    "        return labels"
   ]
  },
  {
   "cell_type": "code",
   "execution_count": 6,
   "metadata": {},
   "outputs": [],
   "source": [
    "train_image = load_images('train-images.idx3-ubyte')"
   ]
  },
  {
   "cell_type": "code",
   "execution_count": 7,
   "metadata": {},
   "outputs": [
    {
     "data": {
      "text/plain": [
       "(60000, 28, 28)"
      ]
     },
     "execution_count": 7,
     "metadata": {},
     "output_type": "execute_result"
    }
   ],
   "source": [
    "train_image.shape"
   ]
  },
  {
   "cell_type": "code",
   "execution_count": 11,
   "metadata": {},
   "outputs": [],
   "source": [
    "train_label = load_labels('train-labels.idx1-ubyte')"
   ]
  },
  {
   "cell_type": "code",
   "execution_count": 12,
   "metadata": {},
   "outputs": [
    {
     "data": {
      "text/plain": [
       "(60000,)"
      ]
     },
     "execution_count": 12,
     "metadata": {},
     "output_type": "execute_result"
    }
   ],
   "source": [
    "train_label.shape"
   ]
  },
  {
   "cell_type": "code",
   "execution_count": null,
   "metadata": {},
   "outputs": [],
   "source": []
  }
 ],
 "metadata": {
  "kernelspec": {
   "display_name": "image_classification",
   "language": "python",
   "name": "python3"
  },
  "language_info": {
   "codemirror_mode": {
    "name": "ipython",
    "version": 3
   },
   "file_extension": ".py",
   "mimetype": "text/x-python",
   "name": "python",
   "nbconvert_exporter": "python",
   "pygments_lexer": "ipython3",
   "version": "3.11.0"
  }
 },
 "nbformat": 4,
 "nbformat_minor": 2
}
